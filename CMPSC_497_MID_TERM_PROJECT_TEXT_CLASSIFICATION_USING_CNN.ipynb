{
  "cells": [
    {
      "cell_type": "markdown",
      "metadata": {
        "id": "view-in-github",
        "colab_type": "text"
      },
      "source": [
        "<a href=\"https://colab.research.google.com/github/dt-cs/CMPSC-497-MID-TERM-PROJECT/blob/main/CMPSC_497_MID_TERM_PROJECT_TEXT_CLASSIFICATION_USING_CNN.ipynb\" target=\"_parent\"><img src=\"https://colab.research.google.com/assets/colab-badge.svg\" alt=\"Open In Colab\"/></a>"
      ]
    },
    {
      "cell_type": "markdown",
      "metadata": {
        "id": "9q7q7aBDd6yf"
      },
      "source": [
        "imports"
      ]
    },
    {
      "cell_type": "markdown",
      "source": [
        "A CNN Model that takes the user queries and classifies the category of command in Rhino 3D."
      ],
      "metadata": {
        "id": "CzPn4dVufKmq"
      }
    },
    {
      "cell_type": "code",
      "execution_count": null,
      "metadata": {
        "colab": {
          "base_uri": "https://localhost:8080/"
        },
        "id": "R38ZLtyljZ7O",
        "outputId": "e750ebab-df3a-4f05-889a-b96306adddff"
      },
      "outputs": [
        {
          "name": "stdout",
          "output_type": "stream",
          "text": [
            "Requirement already satisfied: nltk in /usr/local/lib/python3.11/dist-packages (3.9.1)\n",
            "Requirement already satisfied: click in /usr/local/lib/python3.11/dist-packages (from nltk) (8.1.8)\n",
            "Requirement already satisfied: joblib in /usr/local/lib/python3.11/dist-packages (from nltk) (1.4.2)\n",
            "Requirement already satisfied: regex>=2021.8.3 in /usr/local/lib/python3.11/dist-packages (from nltk) (2024.11.6)\n",
            "Requirement already satisfied: tqdm in /usr/local/lib/python3.11/dist-packages (from nltk) (4.67.1)\n"
          ]
        }
      ],
      "source": [
        "!pip install nltk"
      ]
    },
    {
      "cell_type": "markdown",
      "source": [
        "Import neccesary libraries"
      ],
      "metadata": {
        "id": "2igshN4BfmUp"
      }
    },
    {
      "cell_type": "code",
      "execution_count": null,
      "metadata": {
        "id": "a59fwT1VdQZA"
      },
      "outputs": [],
      "source": [
        "import os\n",
        "import json\n",
        "import numpy as np\n",
        "import torch\n",
        "import torch.nn as nn\n",
        "import torch.optim as optim\n",
        "from torch.utils.data import Dataset, DataLoader\n",
        "import re\n",
        "import nltk\n",
        "from nltk.tokenize import word_tokenize\n",
        "from sklearn.metrics import classification_report, confusion_matrix, accuracy_score\n",
        "import random\n",
        "from tqdm import tqdm\n",
        "import gensim.downloader as api\n",
        "import matplotlib.pyplot as plt"
      ]
    },
    {
      "cell_type": "markdown",
      "metadata": {
        "id": "UDCBoGq2eEUb"
      },
      "source": [
        "Download NLTK to split the sentences into words"
      ]
    },
    {
      "cell_type": "code",
      "execution_count": null,
      "metadata": {
        "colab": {
          "base_uri": "https://localhost:8080/"
        },
        "id": "fw6goCyXd-q8",
        "outputId": "8e59c6e8-0254-40be-a374-692fd6576dad"
      },
      "outputs": [
        {
          "name": "stderr",
          "output_type": "stream",
          "text": [
            "[nltk_data] Downloading package punkt to /root/nltk_data...\n",
            "[nltk_data]   Unzipping tokenizers/punkt.zip.\n",
            "[nltk_data] Downloading package punkt_tab to /root/nltk_data...\n",
            "[nltk_data]   Unzipping tokenizers/punkt_tab.zip.\n"
          ]
        },
        {
          "data": {
            "text/plain": [
              "True"
            ]
          },
          "execution_count": 2,
          "metadata": {},
          "output_type": "execute_result"
        }
      ],
      "source": [
        "# Download NLTK resources\n",
        "nltk.download('punkt')\n",
        "nltk.download('punkt_tab')"
      ]
    },
    {
      "cell_type": "code",
      "execution_count": null,
      "metadata": {
        "id": "YsY31GaTeMBu"
      },
      "outputs": [],
      "source": [
        "# Set random seeds for reproducibility\n",
        "# this step is optional\n",
        "torch.manual_seed(42)\n",
        "np.random.seed(42)\n",
        "random.seed(42)"
      ]
    },
    {
      "cell_type": "code",
      "execution_count": null,
      "metadata": {
        "id": "AwjzCmc-eRVi"
      },
      "outputs": [],
      "source": [
        "#getting the train and test path to load the train and test data\n",
        "train_path = \"/content/train.json\"\n",
        "test_path = \"/content/test.json\""
      ]
    },
    {
      "cell_type": "code",
      "execution_count": null,
      "metadata": {
        "colab": {
          "base_uri": "https://localhost:8080/"
        },
        "id": "uonfCegbfebP",
        "outputId": "3aafdaf8-31f2-4584-df10-7a767de6bd0b"
      },
      "outputs": [
        {
          "name": "stdout",
          "output_type": "stream",
          "text": [
            "Loading data...\n"
          ]
        }
      ],
      "source": [
        "# Load data\n",
        "def load_jsonl(file_path):\n",
        "    data = []\n",
        "    with open(file_path, 'r', encoding='utf-8') as f:\n",
        "        for line in f:\n",
        "            data.append(json.loads(line))\n",
        "    return data\n",
        "\n",
        "print(\"Loading data...\")\n",
        "train_data = load_jsonl(train_path)\n",
        "test_data = load_jsonl(test_path)"
      ]
    },
    {
      "cell_type": "code",
      "execution_count": 71,
      "metadata": {
        "colab": {
          "base_uri": "https://localhost:8080/"
        },
        "id": "byWNhhP7hV1w",
        "outputId": "7c82a9df-ee75-4fcb-a0fe-978938def68d"
      },
      "outputs": [
        {
          "output_type": "stream",
          "name": "stdout",
          "text": [
            "Downloading and loading GloVe embeddings via gensim...\n",
            "Loaded 400000 word vectors with dimension 100\n"
          ]
        }
      ],
      "source": [
        "# Load GloVe embeddings using gensim\n",
        "glove_vectors = load_glove_embeddings_gensim()\n",
        "embedding_dim = glove_vectors.vector_size  # Should be 100 for 'glove-wiki-gigaword-100'"
      ]
    },
    {
      "cell_type": "code",
      "execution_count": null,
      "metadata": {
        "id": "D_VpmaAafdnr"
      },
      "outputs": [],
      "source": [
        "# Load GloVe embeddings using gensim\n",
        "def load_glove_embeddings_gensim():\n",
        "    print(\"Downloading and loading GloVe embeddings via gensim...\")\n",
        "    # Here we are using 100-d glove vectors\n",
        "    glove_model = api.load(\"glove-wiki-gigaword-100\")\n",
        "    print(f\"Loaded {len(glove_model.key_to_index)} word vectors with dimension {glove_model.vector_size}\")\n",
        "    return glove_model"
      ]
    },
    {
      "cell_type": "code",
      "execution_count": 72,
      "metadata": {
        "id": "ongiWyviizEs"
      },
      "outputs": [],
      "source": [
        "# Initialize empty lists for queries and categories\n",
        "train_queries = []\n",
        "train_categories = []\n",
        "test_queries = []\n",
        "test_categories = []\n",
        "\n",
        "# Extract queries and categories from training data\n",
        "for item in train_data:\n",
        "    query = item['query']\n",
        "    category = item['category']\n",
        "    train_queries.append(query)\n",
        "    train_categories.append(category)\n",
        "\n",
        "# Extract queries and categories from test data\n",
        "for item in test_data:\n",
        "    query = item['query']\n",
        "    category = item['category']\n",
        "    test_queries.append(query)\n",
        "    test_categories.append(category)"
      ]
    },
    {
      "cell_type": "code",
      "execution_count": null,
      "metadata": {
        "colab": {
          "base_uri": "https://localhost:8080/"
        },
        "id": "dA2MJIojhIo0",
        "outputId": "31d23494-85f6-4843-d60a-1b0b3e677428"
      },
      "outputs": [
        {
          "name": "stdout",
          "output_type": "stream",
          "text": [
            "Total unique categories: 26\n"
          ]
        }
      ],
      "source": [
        "# Get unique categories\n",
        "combined_categories = []\n",
        "for cat in train_categories:\n",
        "    combined_categories.append(cat)\n",
        "for cat in test_categories:\n",
        "    combined_categories.append(cat)\n",
        "\n",
        "unique_categories = list(set(combined_categories))\n",
        "unique_categories.sort()\n",
        "\n",
        "# Create category to index mapping\n",
        "category_to_idx = {}\n",
        "for idx, cat in enumerate(unique_categories):\n",
        "    category_to_idx[cat] = idx\n",
        "\n",
        "# Create index to category mapping\n",
        "idx_to_category = {}\n",
        "for cat, idx in category_to_idx.items():\n",
        "    idx_to_category[idx] = cat\n",
        "\n",
        "print(f\"Total unique categories: {len(unique_categories)}\")"
      ]
    },
    {
      "cell_type": "code",
      "execution_count": null,
      "metadata": {
        "colab": {
          "base_uri": "https://localhost:8080/"
        },
        "id": "epiXpE9GhQqq",
        "outputId": "28771fc8-57d6-4d61-8f4e-51e321a12e0b"
      },
      "outputs": [
        {
          "name": "stdout",
          "output_type": "stream",
          "text": [
            "Train labels: [9, 2, 15, 24, 3]\n",
            "Test labels: [2, 24, 20, 25, 5]\n"
          ]
        }
      ],
      "source": [
        "# Convert categories to indices\n",
        "train_labels = []\n",
        "for cat in train_categories:\n",
        "    train_labels.append(category_to_idx[cat])\n",
        "\n",
        "test_labels = []\n",
        "for cat in test_categories:\n",
        "    test_labels.append(category_to_idx[cat])\n",
        "\n",
        "print(f\"Train labels: {train_labels[:5]}\")\n",
        "print(f\"Test labels: {test_labels[:5]}\")"
      ]
    },
    {
      "cell_type": "code",
      "execution_count": null,
      "metadata": {
        "id": "_PjSUY-chVGi"
      },
      "outputs": [],
      "source": [
        "# Text preprocessing\n",
        "def preprocess_text(text):\n",
        "    # Convert to lowercase and remove non-alphanumeric characters\n",
        "    text = text.lower()\n",
        "    text = re.sub(r'[^a-zA-Z0-9\\s]', '', text)\n",
        "    # Tokenize\n",
        "    tokens = word_tokenize(text)\n",
        "    return tokens"
      ]
    },
    {
      "cell_type": "code",
      "execution_count": null,
      "metadata": {
        "colab": {
          "base_uri": "https://localhost:8080/"
        },
        "id": "aRqmGjkWhffw",
        "outputId": "7dd5baf6-5f6e-47b3-a4a8-7bda55040ebc"
      },
      "outputs": [
        {
          "name": "stdout",
          "output_type": "stream",
          "text": [
            "Preprocessing queries...\n",
            "Vocabulary size: 2608\n"
          ]
        }
      ],
      "source": [
        "# Tokenize all queries\n",
        "print(\"Preprocessing queries...\")\n",
        "\n",
        "train_tokens = []\n",
        "for query in train_queries:\n",
        "    tokens = preprocess_text(query)\n",
        "    train_tokens.append(tokens)\n",
        "\n",
        "test_tokens = []\n",
        "for query in test_queries:\n",
        "    tokens = preprocess_text(query)\n",
        "    test_tokens.append(tokens)\n",
        "\n",
        "# Build vocabulary from training data\n",
        "vocab = set()\n",
        "for tokens in train_tokens:\n",
        "    vocab.update(tokens)\n",
        "\n",
        "# Add special tokens\n",
        "vocab.add(\"<PAD>\")  # Padding token\n",
        "vocab.add(\"<UNK>\")  # Unknown token\n",
        "\n",
        "# Create word to index mapping\n",
        "# this is for debugging purposes not needed for training\n",
        "word_to_idx = {word: idx for idx, word in enumerate(sorted(vocab))}\n",
        "idx_to_word = {idx: word for word, idx in word_to_idx.items()}\n",
        "vocab_size = len(word_to_idx)\n",
        "\n",
        "print(f\"Vocabulary size: {vocab_size}\")\n"
      ]
    },
    {
      "cell_type": "code",
      "execution_count": null,
      "metadata": {
        "colab": {
          "base_uri": "https://localhost:8080/"
        },
        "id": "xxhLiDRXhgTK",
        "outputId": "1f880ae0-06bc-4c4a-830c-f7b284c8edb8"
      },
      "outputs": [
        {
          "name": "stdout",
          "output_type": "stream",
          "text": [
            "Maximum sequence length: 23\n"
          ]
        }
      ],
      "source": [
        "# Maximum sequence length for padding\n",
        "max_length = max(len(tokens) for tokens in train_tokens + test_tokens)\n",
        "max_length = min(max_length, 50)  # Cap at 50 tokens for efficiency\n",
        "print(f\"Maximum sequence length: {max_length}\")\n"
      ]
    },
    {
      "cell_type": "code",
      "execution_count": null,
      "metadata": {
        "id": "3ahbaGH9hkeM"
      },
      "outputs": [],
      "source": [
        "# Create embedding matrix with GloVe vectors from gensim\n",
        "embedding_matrix = np.zeros((vocab_size, embedding_dim))\n",
        "for word, idx in word_to_idx.items():\n",
        "    if word in glove_vectors:\n",
        "        embedding_matrix[idx] = glove_vectors[word]\n",
        "    else:\n",
        "        # Random initialization for unknown words\n",
        "        embedding_matrix[idx] = np.random.normal(scale=0.6, size=(embedding_dim,))"
      ]
    },
    {
      "cell_type": "code",
      "execution_count": null,
      "metadata": {
        "id": "HymwbcN8kykM"
      },
      "outputs": [],
      "source": [
        "# Define dataset class\n",
        "class TextDataset(Dataset):\n",
        "    def __init__(self, tokens, labels, word_to_idx, max_length):\n",
        "        self.tokens = tokens\n",
        "        self.labels = labels\n",
        "        self.word_to_idx = word_to_idx\n",
        "        self.max_length = max_length\n",
        "\n",
        "    def __len__(self):\n",
        "        return len(self.tokens)\n",
        "\n",
        "    def __getitem__(self, idx):\n",
        "        token_list = self.tokens[idx]\n",
        "        label = self.labels[idx]\n",
        "\n",
        "        # Convert tokens to indices\n",
        "        # Here we are converting the tokens to indices to create a lookup table\n",
        "        # the actual embeddings are used (looked up) during the forward pass during model execution\n",
        "        indices = []\n",
        "        for token in token_list:\n",
        "            if token in self.word_to_idx:\n",
        "                indices.append(self.word_to_idx[token])\n",
        "            else:\n",
        "                indices.append(self.word_to_idx[\"<UNK>\"])\n",
        "\n",
        "        # Pad sequences that are too short\n",
        "        if len(indices) < self.max_length:\n",
        "            # Get the padding token index\n",
        "            pad_index = self.word_to_idx[\"<PAD>\"]\n",
        "\n",
        "            # Calculate how many padding tokens we need\n",
        "            padding_needed = self.max_length - len(indices)\n",
        "\n",
        "            # Add padding tokens to the end\n",
        "            for i in range(padding_needed):\n",
        "                indices.append(pad_index)\n",
        "\n",
        "        # Truncate sequences that are too long\n",
        "        elif len(indices) > self.max_length:\n",
        "            # Keep only the first max_length tokens\n",
        "            new_indices = []\n",
        "            for i in range(self.max_length):\n",
        "                new_indices.append(indices[i])\n",
        "            indices = new_indices\n",
        "\n",
        "        # Convert to PyTorch tensors\n",
        "        indices_tensor = torch.tensor(indices, dtype=torch.long)\n",
        "        label_tensor = torch.tensor(label, dtype=torch.long)\n",
        "\n",
        "        # Return the processed sample\n",
        "        return indices_tensor, label_tensor"
      ]
    },
    {
      "cell_type": "markdown",
      "metadata": {
        "id": "RxVv-48oEXUb"
      },
      "source": [
        "# CNN Architecture Overview\n",
        "\n",
        "Text Query → Word Indices → Word Embeddings →\n",
        "Multiple Parallel Convolutions → Max Pooling → Concatenation → Dropout → Fully Connected Layer → Classification"
      ]
    },
    {
      "cell_type": "code",
      "execution_count": null,
      "metadata": {
        "id": "g3upOm9Vk2hD"
      },
      "outputs": [],
      "source": [
        "# Define the CNN model\n",
        "class TextCNN(nn.Module):\n",
        "    def __init__(self, vocab_size, embedding_dim, num_filters, filter_sizes, num_classes, dropout, embedding_matrix=None):\n",
        "        super(TextCNN, self).__init__()\n",
        "\n",
        "        # Embedding layer\n",
        "        self.embedding = nn.Embedding(vocab_size, embedding_dim)\n",
        "\n",
        "        # Initialize with GloVe embeddings\n",
        "        if embedding_matrix is not None:\n",
        "            self.embedding.weight = nn.Parameter(torch.tensor(embedding_matrix, dtype=torch.float))\n",
        "            self.embedding.weight.requires_grad = True  # Fine-tune the embeddings\n",
        "\n",
        "        # Convolutional layers with different filter sizes\n",
        "        self.convs = nn.ModuleList([\n",
        "            nn.Conv1d(in_channels=embedding_dim, out_channels=num_filters, kernel_size=fs)\n",
        "            for fs in filter_sizes\n",
        "        ])\n",
        "\n",
        "        # Dropout for regularization\n",
        "        self.dropout = nn.Dropout(dropout)\n",
        "\n",
        "        # Fully connected layer for classification\n",
        "        self.fc = nn.Linear(num_filters * len(filter_sizes), num_classes)\n",
        "\n",
        "    def forward(self, x):\n",
        "        # x shape: (batch_size, seq_len)\n",
        "\n",
        "        # Embedding lookup\n",
        "        x = self.embedding(x)  # (batch_size, seq_len, embedding_dim)\n",
        "\n",
        "        # Reshape for conv1d which expects (batch_size, embedding_dim, seq_len)\n",
        "        x = x.permute(0, 2, 1)\n",
        "\n",
        "        # Apply convolutions and max-over-time pooling\n",
        "        conv_results = []\n",
        "\n",
        "        for conv in self.convs:\n",
        "            # Apply convolution and ReLU\n",
        "            conv_out = torch.relu(conv(x))\n",
        "\n",
        "            # Max-over-time pooling\n",
        "            pooled = torch.max(conv_out, dim=2)[0]\n",
        "            conv_results.append(pooled)\n",
        "\n",
        "        # Concatenate the outputs from different filter sizes\n",
        "        x = torch.cat(conv_results, dim=1)\n",
        "\n",
        "        # Apply dropout\n",
        "        x = self.dropout(x)\n",
        "\n",
        "        # Feed through fully connected layer\n",
        "        logits = self.fc(x)\n",
        "\n",
        "        return logits"
      ]
    },
    {
      "cell_type": "code",
      "execution_count": 52,
      "metadata": {
        "id": "gR3cVCKuk79k"
      },
      "outputs": [],
      "source": [
        "# Hyperparameters\n",
        "batch_size = 64\n",
        "num_filters = 100\n",
        "filter_sizes = [3, 4]\n",
        "dropout_rate = 0.6\n",
        "learning_rate = 0.001\n",
        "num_epochs = 10\n",
        "\n",
        "device = torch.device('cuda' if torch.cuda.is_available() else 'cpu')"
      ]
    },
    {
      "cell_type": "code",
      "execution_count": 53,
      "metadata": {
        "colab": {
          "base_uri": "https://localhost:8080/"
        },
        "id": "yL9CQ6Sgk-tB",
        "outputId": "1ae0e31b-924a-403f-96ff-e95a8d370c0b"
      },
      "outputs": [
        {
          "output_type": "stream",
          "name": "stdout",
          "text": [
            "Train dataset shape: 15283\n",
            "Test dataset shape: 2697\n"
          ]
        }
      ],
      "source": [
        "# Create datasets and data loaders\n",
        "train_dataset = TextDataset(train_tokens, train_labels, word_to_idx, max_length)\n",
        "test_dataset = TextDataset(test_tokens, test_labels, word_to_idx, max_length)\n",
        "\n",
        "train_loader = DataLoader(train_dataset, batch_size=batch_size, shuffle=True)\n",
        "test_loader = DataLoader(test_dataset, batch_size=batch_size)\n",
        "\n",
        "#print shape of train_dataset\n",
        "print(f\"Train dataset shape: {len(train_dataset)}\")\n",
        "print(f\"Test dataset shape: {len(test_dataset)}\")"
      ]
    },
    {
      "cell_type": "code",
      "execution_count": 54,
      "metadata": {
        "id": "HeuwOFOclC4-"
      },
      "outputs": [],
      "source": [
        "# Initialize the model\n",
        "model = TextCNN(\n",
        "    vocab_size=vocab_size,\n",
        "    embedding_dim=embedding_dim,\n",
        "    num_filters=num_filters,\n",
        "    filter_sizes=filter_sizes,\n",
        "    num_classes=len(unique_categories),\n",
        "    dropout=dropout_rate,\n",
        "    embedding_matrix=embedding_matrix\n",
        ").to(device)"
      ]
    },
    {
      "cell_type": "code",
      "execution_count": 60,
      "metadata": {
        "id": "WAa202jvlFWk"
      },
      "outputs": [],
      "source": [
        "# Define loss function and optimizer\n",
        "criterion = nn.CrossEntropyLoss()\n",
        "optimizer = optim.Adam(model.parameters(), lr=learning_rate, weight_decay=1e-5)"
      ]
    },
    {
      "cell_type": "code",
      "execution_count": 61,
      "metadata": {
        "colab": {
          "base_uri": "https://localhost:8080/"
        },
        "id": "QUp2wl8BlPms",
        "outputId": "e34a514d-fd9e-4b7a-95af-1eeba77782d4"
      },
      "outputs": [
        {
          "output_type": "stream",
          "name": "stdout",
          "text": [
            "Starting training for 10 epochs...\n"
          ]
        },
        {
          "output_type": "stream",
          "name": "stderr",
          "text": [
            "Epoch 1/10: 100%|██████████| 239/239 [00:10<00:00, 21.93it/s, loss=0.184, acc=95]\n"
          ]
        },
        {
          "output_type": "stream",
          "name": "stdout",
          "text": [
            "\n",
            "Epoch 1/10:\n",
            "Train Loss: 0.1821, Train Acc: 95.02%\n",
            "Test Loss: 0.2281, Test Acc: 93.70%\n"
          ]
        },
        {
          "output_type": "stream",
          "name": "stderr",
          "text": [
            "Epoch 2/10: 100%|██████████| 239/239 [00:10<00:00, 23.89it/s, loss=0.151, acc=95.9]\n"
          ]
        },
        {
          "output_type": "stream",
          "name": "stdout",
          "text": [
            "\n",
            "Epoch 2/10:\n",
            "Train Loss: 0.1499, Train Acc: 95.86%\n",
            "Test Loss: 0.2072, Test Acc: 94.10%\n"
          ]
        },
        {
          "output_type": "stream",
          "name": "stderr",
          "text": [
            "Epoch 3/10: 100%|██████████| 239/239 [00:10<00:00, 22.82it/s, loss=0.128, acc=96.5]\n"
          ]
        },
        {
          "output_type": "stream",
          "name": "stdout",
          "text": [
            "\n",
            "Epoch 3/10:\n",
            "Train Loss: 0.1277, Train Acc: 96.47%\n",
            "Test Loss: 0.2075, Test Acc: 94.22%\n"
          ]
        },
        {
          "output_type": "stream",
          "name": "stderr",
          "text": [
            "Epoch 4/10: 100%|██████████| 239/239 [00:11<00:00, 21.62it/s, loss=0.114, acc=96.7]\n"
          ]
        },
        {
          "output_type": "stream",
          "name": "stdout",
          "text": [
            "\n",
            "Epoch 4/10:\n",
            "Train Loss: 0.1128, Train Acc: 96.74%\n",
            "Test Loss: 0.1999, Test Acc: 94.59%\n"
          ]
        },
        {
          "output_type": "stream",
          "name": "stderr",
          "text": [
            "Epoch 5/10: 100%|██████████| 239/239 [00:10<00:00, 22.52it/s, loss=0.0999, acc=97.2]\n"
          ]
        },
        {
          "output_type": "stream",
          "name": "stdout",
          "text": [
            "\n",
            "Epoch 5/10:\n",
            "Train Loss: 0.0991, Train Acc: 97.17%\n",
            "Test Loss: 0.1887, Test Acc: 94.62%\n"
          ]
        },
        {
          "output_type": "stream",
          "name": "stderr",
          "text": [
            "Epoch 6/10: 100%|██████████| 239/239 [00:09<00:00, 24.53it/s, loss=0.0884, acc=97.4]\n"
          ]
        },
        {
          "output_type": "stream",
          "name": "stdout",
          "text": [
            "\n",
            "Epoch 6/10:\n",
            "Train Loss: 0.0884, Train Acc: 97.38%\n",
            "Test Loss: 0.1856, Test Acc: 94.92%\n"
          ]
        },
        {
          "output_type": "stream",
          "name": "stderr",
          "text": [
            "Epoch 7/10: 100%|██████████| 239/239 [00:09<00:00, 25.14it/s, loss=0.0822, acc=97.5]\n"
          ]
        },
        {
          "output_type": "stream",
          "name": "stdout",
          "text": [
            "\n",
            "Epoch 7/10:\n",
            "Train Loss: 0.0815, Train Acc: 97.54%\n",
            "Test Loss: 0.1840, Test Acc: 94.81%\n"
          ]
        },
        {
          "output_type": "stream",
          "name": "stderr",
          "text": [
            "Epoch 8/10: 100%|██████████| 239/239 [00:10<00:00, 23.14it/s, loss=0.0722, acc=97.9]\n"
          ]
        },
        {
          "output_type": "stream",
          "name": "stdout",
          "text": [
            "\n",
            "Epoch 8/10:\n",
            "Train Loss: 0.0722, Train Acc: 97.93%\n",
            "Test Loss: 0.1872, Test Acc: 94.92%\n"
          ]
        },
        {
          "output_type": "stream",
          "name": "stderr",
          "text": [
            "Epoch 9/10: 100%|██████████| 239/239 [00:10<00:00, 23.04it/s, loss=0.0696, acc=97.9]\n"
          ]
        },
        {
          "output_type": "stream",
          "name": "stdout",
          "text": [
            "\n",
            "Epoch 9/10:\n",
            "Train Loss: 0.0690, Train Acc: 97.93%\n",
            "Test Loss: 0.1880, Test Acc: 95.07%\n"
          ]
        },
        {
          "output_type": "stream",
          "name": "stderr",
          "text": [
            "Epoch 10/10: 100%|██████████| 239/239 [00:10<00:00, 23.08it/s, loss=0.0656, acc=98.1]\n"
          ]
        },
        {
          "output_type": "stream",
          "name": "stdout",
          "text": [
            "\n",
            "Epoch 10/10:\n",
            "Train Loss: 0.0656, Train Acc: 98.08%\n",
            "Test Loss: 0.1842, Test Acc: 95.03%\n"
          ]
        }
      ],
      "source": [
        "# Training loop\n",
        "train_losses = []\n",
        "train_accs = []\n",
        "test_losses = []\n",
        "test_accs = []\n",
        "\n",
        "print(f\"Starting training for {num_epochs} epochs...\")\n",
        "for epoch in range(num_epochs):\n",
        "    model.train()\n",
        "    train_loss = 0.0\n",
        "    correct = 0\n",
        "    total = 0\n",
        "\n",
        "    progress_bar = tqdm(train_loader, desc=f\"Epoch {epoch+1}/{num_epochs}\")\n",
        "    for inputs, labels in progress_bar:\n",
        "        inputs, labels = inputs.to(device), labels.to(device)\n",
        "\n",
        "        # Zero the gradients\n",
        "        optimizer.zero_grad()\n",
        "\n",
        "        # Forward pass\n",
        "        outputs = model(inputs)\n",
        "\n",
        "        # Calculate loss\n",
        "        loss = criterion(outputs, labels)\n",
        "\n",
        "        # Backward pass and optimize\n",
        "        loss.backward()\n",
        "        optimizer.step()\n",
        "\n",
        "        # Track statistics\n",
        "        train_loss += loss.item()\n",
        "        _, predicted = outputs.max(1)\n",
        "        total += labels.size(0)\n",
        "        correct += predicted.eq(labels).sum().item()\n",
        "\n",
        "        # Update progress bar\n",
        "        progress_bar.set_postfix({\n",
        "            'loss': train_loss / (progress_bar.n + 1),\n",
        "            'acc': 100. * correct / total\n",
        "        })\n",
        "\n",
        "    # Evaluate on test set\n",
        "    model.eval()\n",
        "    test_loss = 0.0\n",
        "    test_correct = 0\n",
        "    test_total = 0\n",
        "    all_preds = []\n",
        "    all_labels = []\n",
        "    all_probs = []\n",
        "\n",
        "    with torch.no_grad():\n",
        "        for inputs, labels in test_loader:\n",
        "            inputs, labels = inputs.to(device), labels.to(device)\n",
        "\n",
        "            outputs = model(inputs)\n",
        "            loss = criterion(outputs, labels)\n",
        "\n",
        "            test_loss += loss.item()\n",
        "\n",
        "            # Get probabilities using softmax\n",
        "            probs = torch.nn.functional.softmax(outputs, dim=1)\n",
        "            max_probs, predicted = probs.max(1)\n",
        "\n",
        "            test_total += labels.size(0)\n",
        "            test_correct += predicted.eq(labels).sum().item()\n",
        "\n",
        "            all_preds.extend(predicted.cpu().numpy())\n",
        "            all_labels.extend(labels.cpu().numpy())\n",
        "            all_probs.extend(max_probs.cpu().numpy())\n",
        "\n",
        "    train_losses.append(train_loss/len(train_loader))\n",
        "    train_accs.append(100.*correct/total)\n",
        "    test_losses.append(test_loss/len(test_loader))\n",
        "    test_accs.append(100.*test_correct/test_total)\n",
        "\n",
        "    # Print epoch results\n",
        "    print(f\"\\nEpoch {epoch+1}/{num_epochs}:\")\n",
        "    print(f\"Train Loss: {train_loss/len(train_loader):.4f}, Train Acc: {100.*correct/total:.2f}%\")\n",
        "    print(f\"Test Loss: {test_loss/len(test_loader):.4f}, Test Acc: {100.*test_correct/test_total:.2f}%\")"
      ]
    },
    {
      "cell_type": "code",
      "execution_count": 62,
      "metadata": {
        "colab": {
          "base_uri": "https://localhost:8080/",
          "height": 507
        },
        "id": "6WHII36oKik9",
        "outputId": "1104e101-f8dd-4fdc-f9de-9b9479447a0b"
      },
      "outputs": [
        {
          "output_type": "display_data",
          "data": {
            "text/plain": [
              "<Figure size 1200x500 with 2 Axes>"
            ],
            "image/png": "[encoded data removed]"
          },
          "metadata": {}
        }
      ],
      "source": [
        "plt.figure(figsize=(12, 5))\n",
        "\n",
        "# Plot loss curves\n",
        "plt.subplot(1, 2, 1)\n",
        "plt.plot(train_losses, label='Train Loss')\n",
        "plt.plot(test_losses, label='Test Loss')\n",
        "plt.xlabel('Epochs')\n",
        "plt.ylabel('Loss')\n",
        "plt.title('Loss Curves')\n",
        "plt.legend()\n",
        "\n",
        "# Plot accuracy curves\n",
        "plt.subplot(1, 2, 2)\n",
        "plt.plot(train_accs, label='Train Accuracy')\n",
        "plt.plot(test_accs, label='Test Accuracy')\n",
        "plt.xlabel('Epochs')\n",
        "plt.ylabel('Accuracy (%)')\n",
        "plt.title('Accuracy Curves')\n",
        "plt.legend()\n",
        "\n",
        "plt.tight_layout()\n",
        "plt.savefig('learning_curves.png')\n",
        "plt.show()"
      ]
    },
    {
      "cell_type": "code",
      "execution_count": 68,
      "metadata": {
        "colab": {
          "base_uri": "https://localhost:8080/"
        },
        "id": "uBg-qSvBlStS",
        "outputId": "232188ff-2b13-477b-a273-3037e0abf52e"
      },
      "outputs": [
        {
          "output_type": "stream",
          "name": "stdout",
          "text": [
            "\n",
            "Final Test Results:\n",
            "Test Accuracy: 0.9503\n"
          ]
        }
      ],
      "source": [
        "# Final evaluation\n",
        "print(\"\\nFinal Test Results:\")\n",
        "test_accuracy = accuracy_score(all_labels, all_preds)\n",
        "print(f\"Test Accuracy: {test_accuracy:.4f}\")"
      ]
    },
    {
      "cell_type": "code",
      "execution_count": 69,
      "metadata": {
        "colab": {
          "base_uri": "https://localhost:8080/"
        },
        "id": "FV8v_rsNmR4E",
        "outputId": "ac222eb3-2f24-41f3-ff73-d07bf75aa5a0"
      },
      "outputs": [
        {
          "output_type": "stream",
          "name": "stdout",
          "text": [
            "\n",
            "Classification Report:\n",
            "                precision    recall  f1-score   support\n",
            "\n",
            "   application     0.9722    0.9563    0.9642       183\n",
            "         block     1.0000    0.9733    0.9865        75\n",
            "         curve     0.9437    0.9384    0.9410       357\n",
            "     dimension     0.9744    0.9744    0.9744       117\n",
            "      document     0.9667    0.9667    0.9667        90\n",
            "      geometry     0.9798    0.9238    0.9510       105\n",
            "         grips     1.0000    0.9556    0.9773        45\n",
            "         group     1.0000    0.9216    0.9592        51\n",
            "         hatch     1.0000    1.0000    1.0000        48\n",
            "         layer     0.9700    0.9510    0.9604       102\n",
            "         light     1.0000    0.9722    0.9859        72\n",
            "          line     0.9355    0.9667    0.9508        30\n",
            "      linetype     1.0000    1.0000    1.0000        12\n",
            "      material     0.9592    0.9792    0.9691        48\n",
            "          mesh     0.9338    0.9407    0.9373       135\n",
            "        object     0.9396    0.9500    0.9448       180\n",
            "         plane     0.8889    0.8889    0.8889        54\n",
            "   pointvector     0.9020    0.9293    0.9154        99\n",
            "     selection     0.9444    0.9067    0.9252        75\n",
            "       surface     0.9338    0.9400    0.9369       300\n",
            "       toolbar     1.0000    1.0000    1.0000        45\n",
            "transformation     0.8313    0.9200    0.8734        75\n",
            "      userdata     0.9474    1.0000    0.9730        36\n",
            " userinterface     0.9569    0.9737    0.9652       114\n",
            "       utility     0.9250    0.9136    0.9193        81\n",
            "          view     0.9595    0.9881    0.9736       168\n",
            "\n",
            "      accuracy                         0.9503      2697\n",
            "     macro avg     0.9563    0.9550    0.9554      2697\n",
            "  weighted avg     0.9510    0.9503    0.9505      2697\n",
            "\n"
          ]
        }
      ],
      "source": [
        "# Print classification report\n",
        "print(\"\\nClassification Report:\")\n",
        "target_names = [idx_to_category[i] for i in range(len(unique_categories))]\n",
        "print(classification_report(all_labels, all_preds, target_names=target_names, digits=4))"
      ]
    },
    {
      "cell_type": "code",
      "execution_count": 70,
      "metadata": {
        "colab": {
          "base_uri": "https://localhost:8080/",
          "height": 1000
        },
        "id": "lCEXkdccNPWD",
        "outputId": "559a919a-427a-4aad-b814-0383433cb177"
      },
      "outputs": [
        {
          "output_type": "stream",
          "name": "stdout",
          "text": [
            "\n",
            "Classification Report:\n",
            "                precision    recall  f1-score   support\n",
            "\n",
            "   application       0.97      0.96      0.96       183\n",
            "         block       1.00      0.97      0.99        75\n",
            "         curve       0.94      0.94      0.94       357\n",
            "     dimension       0.97      0.97      0.97       117\n",
            "      document       0.97      0.97      0.97        90\n",
            "      geometry       0.98      0.92      0.95       105\n",
            "         grips       1.00      0.96      0.98        45\n",
            "         group       1.00      0.92      0.96        51\n",
            "         hatch       1.00      1.00      1.00        48\n",
            "         layer       0.97      0.95      0.96       102\n",
            "         light       1.00      0.97      0.99        72\n",
            "          line       0.94      0.97      0.95        30\n",
            "      linetype       1.00      1.00      1.00        12\n",
            "      material       0.96      0.98      0.97        48\n",
            "          mesh       0.93      0.94      0.94       135\n",
            "        object       0.94      0.95      0.94       180\n",
            "         plane       0.89      0.89      0.89        54\n",
            "   pointvector       0.90      0.93      0.92        99\n",
            "     selection       0.94      0.91      0.93        75\n",
            "       surface       0.93      0.94      0.94       300\n",
            "       toolbar       1.00      1.00      1.00        45\n",
            "transformation       0.83      0.92      0.87        75\n",
            "      userdata       0.95      1.00      0.97        36\n",
            " userinterface       0.96      0.97      0.97       114\n",
            "       utility       0.93      0.91      0.92        81\n",
            "          view       0.96      0.99      0.97       168\n",
            "\n",
            "      accuracy                           0.95      2697\n",
            "     macro avg       0.96      0.95      0.96      2697\n",
            "  weighted avg       0.95      0.95      0.95      2697\n",
            "\n"
          ]
        },
        {
          "output_type": "display_data",
          "data": {
            "text/plain": [
              "<Figure size 1200x1000 with 2 Axes>"
            ],
            "image/png": "[encoded data removed]"
          },
          "metadata": {}
        }
      ],
      "source": [
        "# Add after your training loop\n",
        "from sklearn.metrics import confusion_matrix, classification_report\n",
        "import seaborn as sns\n",
        "\n",
        "# Convert indices to category names\n",
        "pred_categories = [idx_to_category[idx] for idx in all_preds]\n",
        "true_categories = [idx_to_category[idx] for idx in all_labels]\n",
        "\n",
        "# Create and plot confusion matrix\n",
        "cm = confusion_matrix(true_categories, pred_categories)\n",
        "plt.figure(figsize=(12, 10))\n",
        "sns.heatmap(cm, annot=True, fmt='d', cmap='Blues',\n",
        "           xticklabels=unique_categories,\n",
        "           yticklabels=unique_categories)\n",
        "plt.xlabel('Predicted')\n",
        "plt.ylabel('True')\n",
        "plt.title('Confusion Matrix')\n",
        "plt.tight_layout()\n",
        "plt.savefig('confusion_matrix.png')\n",
        "\n",
        "# Print classification report\n",
        "report = classification_report(true_categories, pred_categories)\n",
        "print(\"\\nClassification Report:\")\n",
        "print(report)"
      ]
    },
    {
      "cell_type": "markdown",
      "source": [],
      "metadata": {
        "id": "vM3DFslTfHfW"
      }
    },
    {
      "cell_type": "code",
      "execution_count": 73,
      "metadata": {
        "id": "O0LAC0hTqb5z"
      },
      "outputs": [],
      "source": [
        "# Add a confidence threshold for predictions\n",
        "CONFIDENCE_THRESHOLD = 0.95"
      ]
    },
    {
      "cell_type": "code",
      "execution_count": 74,
      "metadata": {
        "id": "YzvF2CHZqETh"
      },
      "outputs": [],
      "source": [
        "# Example of using the model for prediction with out-of-domain detection\n",
        "def predict_category_with_rejection(query, model, word_to_idx, idx_to_category, max_length, confidence_threshold=CONFIDENCE_THRESHOLD):\n",
        "    # Detect Rhino-related queries using keywords\n",
        "    rhino_keywords = ['rhino', 'rhinoceros', 'grasshopper', 'nurbs', 'brep', 'mesh', 'surface',\n",
        "                      'curve', 'point', 'object', 'layer', 'block', 'view', 'command', 'light',\n",
        "                      'material', 'dimension', 'layout', 'geometry', 'transform', 'model']\n",
        "\n",
        "    # Check if query is likely related to Rhino\n",
        "    query_lower = query.lower()\n",
        "    is_rhino_related = any(keyword in query_lower for keyword in rhino_keywords)\n",
        "\n",
        "    # Preprocess\n",
        "    tokens = preprocess_text(query)\n",
        "\n",
        "    # Check token overlap with training vocabulary\n",
        "    known_tokens = sum(1 for token in tokens if token in word_to_idx and token != \"<UNK>\")\n",
        "    token_ratio = known_tokens / len(tokens) if tokens else 0\n",
        "\n",
        "    # Convert to indices with handling for unknown tokens\n",
        "    indices = []\n",
        "    for token in tokens:\n",
        "        if token in word_to_idx:\n",
        "            indices.append(word_to_idx[token])\n",
        "        else:\n",
        "            indices.append(word_to_idx[\"<UNK>\"])\n",
        "\n",
        "    # Pad or truncate\n",
        "    if len(indices) < max_length:\n",
        "        indices.extend([word_to_idx[\"<PAD>\"]] * (max_length - len(indices)))\n",
        "    elif len(indices) > max_length:\n",
        "        indices = indices[:max_length]\n",
        "\n",
        "    # Convert to tensor and add batch dimension\n",
        "    indices_tensor = torch.tensor([indices], dtype=torch.long).to(device)\n",
        "\n",
        "    # Set model to eval mode\n",
        "    model.eval()\n",
        "\n",
        "    # Get prediction\n",
        "    with torch.no_grad():\n",
        "        outputs = model(indices_tensor)\n",
        "        probs = torch.nn.functional.softmax(outputs, dim=1)\n",
        "        max_prob, predicted = torch.max(probs, dim=1)\n",
        "\n",
        "    # Convert to category name\n",
        "    category = idx_to_category[predicted.item()]\n",
        "    confidence = max_prob.item()\n",
        "\n",
        "    # Apply rejection strategy\n",
        "    if (not is_rhino_related and token_ratio < 0.5) or confidence < confidence_threshold:\n",
        "        return \"not_rhino_related\", confidence\n",
        "\n",
        "    return category, confidence"
      ]
    },
    {
      "cell_type": "code",
      "execution_count": 75,
      "metadata": {
        "colab": {
          "base_uri": "https://localhost:8080/"
        },
        "id": "-pbYNKtWqj1U",
        "outputId": "d9a66b78-6720-48b4-e10d-c4af84928977"
      },
      "outputs": [
        {
          "output_type": "stream",
          "name": "stdout",
          "text": [
            "\n",
            "Sample Predictions with Confidence:\n",
            "Query: 'how do I list all files in a directory' → Not Rhino related (Confidence: 0.8728)\n",
            "Query: 'show me how much memory is free' → Not Rhino related (Confidence: 0.3331)\n",
            "Query: 'check if a website is up' → Not Rhino related (Confidence: 0.3200)\n",
            "Query: 'how can I create a lofted surface in Rhino' → Category: 'surface' (Confidence: 1.0000)\n",
            "Query: 'what is the command to create a mesh in Rhino' → Category: 'mesh' (Confidence: 0.9998)\n",
            "Query: 'I want to order pizza for dinner' → Not Rhino related (Confidence: 0.4941)\n",
            "Query: 'can you help me create a NURBS curve' → Category: 'curve' (Confidence: 0.9971)\n",
            "Query: 'what's the weather like today' → Not Rhino related (Confidence: 0.6089)\n",
            "Query: 'who won the last world cup' → Not Rhino related (Confidence: 0.7530)\n",
            "Query: 'how do I extrude a surface along a path in Rhino' → Category: 'surface' (Confidence: 1.0000)\n"
          ]
        }
      ],
      "source": [
        "# Try some sample queries including non-Rhino related ones\n",
        "print(\"\\nSample Predictions with Confidence:\")\n",
        "sample_queries = [\n",
        "    \"how do I list all files in a directory\",  # Potentially ambiguous - could be OS command\n",
        "    \"show me how much memory is free\",  # Non-Rhino\n",
        "    \"check if a website is up\",  # Non-Rhino\n",
        "    \"how can I create a lofted surface in Rhino\",  # Rhino-related\n",
        "    \"what is the command to create a mesh in Rhino\",  # Rhino-related\n",
        "    \"I want to order pizza for dinner\",  # Non-Rhino\n",
        "    \"can you help me create a NURBS curve\",  # Rhino-related\n",
        "    \"what's the weather like today\",  # Non-Rhino\n",
        "    \"who won the last world cup\",  # Non-Rhino\n",
        "    \"how do I extrude a surface along a path in Rhino\"  # Rhino-related\n",
        "]\n",
        "\n",
        "for query in sample_queries:\n",
        "    category, confidence = predict_category_with_rejection(query, model, word_to_idx, idx_to_category, max_length)\n",
        "    if category == \"not_rhino_related\":\n",
        "        print(f\"Query: '{query}' → Not Rhino related (Confidence: {confidence:.4f})\")\n",
        "    else:\n",
        "        print(f\"Query: '{query}' → Category: '{category}' (Confidence: {confidence:.4f})\")"
      ]
    }
  ],
  "metadata": {
    "accelerator": "GPU",
    "colab": {
      "gpuType": "T4",
      "provenance": [],
      "authorship_tag": "ABX9TyNFw6HfmTiZPNRmCcsLrSam",
      "include_colab_link": true
    },
    "kernelspec": {
      "display_name": "Python 3",
      "name": "python3"
    },
    "language_info": {
      "name": "python"
    }
  },
  "nbformat": 4,
  "nbformat_minor": 0
}